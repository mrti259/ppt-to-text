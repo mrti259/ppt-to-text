{
 "cells": [
  {
   "cell_type": "code",
   "execution_count": 28,
   "id": "e6966da8-5f5c-4b3a-ac08-a2933310145b",
   "metadata": {},
   "outputs": [
    {
     "data": {
      "text/plain": [
       "[PosixPath('in/legal/EBT II Clase 31_11_2024 - legal clase 3.pptx'),\n",
       " PosixPath('in/legal/Charla sobre PI y Transferencia de Tecnología .pptx'),\n",
       " PosixPath('in/legal/EBT II Clase 2024_10_29 Clase Legal 1 - intro.pptx')]"
      ]
     },
     "execution_count": 28,
     "metadata": {},
     "output_type": "execute_result"
    }
   ],
   "source": [
    "import os\n",
    "from pathlib import Path\n",
    "\n",
    "path_in = Path(\"in\")\n",
    "path_out = Path(\"out\")\n",
    "\n",
    "if not path_out.exists():\n",
    "    os.mkdir(path_out)\n",
    "\n",
    "ppt_in = [file for file in path_in.glob(\"**/*.pptx\")]\n",
    "list(ppt_in)"
   ]
  },
  {
   "cell_type": "code",
   "execution_count": 42,
   "id": "7e8c9646-77aa-4548-aeae-d4b2a481d32d",
   "metadata": {},
   "outputs": [],
   "source": [
    "from pptx import Presentation\n",
    "from pptx.enum.shapes import MSO_SHAPE_TYPE\n",
    "\n",
    "def extract(path_ppt):\n",
    "    prs = Presentation(path_ppt)\n",
    "    lines = []\n",
    "    \n",
    "    dir_out = path_out / path_ppt.relative_to(path_in).with_suffix(\"\")\n",
    "    if dir_out.exists():\n",
    "        return\n",
    "        \n",
    "    os.makedirs(dir_out)\n",
    "    \n",
    "    for i, slide in enumerate(prs.slides):\n",
    "        for j, shape in enumerate(slide.shapes):\n",
    "            if shape.shape_type == MSO_SHAPE_TYPE.PICTURE:\n",
    "                filename = f\"{i}-{j}_{shape.image.filename}\"\n",
    "                img_out = dir_out / filename\n",
    "                if not img_out.exists():\n",
    "                    with open(img_out, \"wb\") as file:\n",
    "                        file.write(shape.image.blob)\n",
    "                lines.append(f\"![img]({filename})\")\n",
    "                continue\n",
    "            \n",
    "            if not shape.has_text_frame:\n",
    "                continue\n",
    "                \n",
    "            for paragraph in shape.text_frame.paragraphs:\n",
    "                line = \"\"\n",
    "                for run in paragraph.runs:\n",
    "                    text = run.text.strip()\n",
    "                    if text == \"\": continue;\n",
    "                    font = run.font\n",
    "                    if font.bold: text = f\"**{text}**\";\n",
    "                    if font.italic: text = f\"*{text}*\";\n",
    "                    if font.underline: text = f\"<u>{text}</u>\";\n",
    "                    if line != \"\": line += \" \";\n",
    "                    line += text\n",
    "                if line == \"\": continue;\n",
    "                lines.append(line)\n",
    "                    \n",
    "    with open(dir_out / \"README.md\", \"w\") as file:\n",
    "        file.write(\"\\n\\n\".join(lines))\n",
    "        print(dir_out)"
   ]
  },
  {
   "cell_type": "code",
   "execution_count": 43,
   "id": "cf7ffb52-6b6a-4a50-8c11-bfbf780d1045",
   "metadata": {},
   "outputs": [
    {
     "name": "stdout",
     "output_type": "stream",
     "text": [
      "out/legal/EBT II Clase 31_11_2024 - legal clase 3\n",
      "out/legal/Charla sobre PI y Transferencia de Tecnología \n",
      "out/legal/EBT II Clase 2024_10_29 Clase Legal 1 - intro\n"
     ]
    }
   ],
   "source": [
    "for path_ppt in ppt_in:\n",
    "    extract(path_ppt)"
   ]
  }
 ],
 "metadata": {
  "kernelspec": {
   "display_name": "Python 3 (ipykernel)",
   "language": "python",
   "name": "python3"
  },
  "language_info": {
   "codemirror_mode": {
    "name": "ipython",
    "version": 3
   },
   "file_extension": ".py",
   "mimetype": "text/x-python",
   "name": "python",
   "nbconvert_exporter": "python",
   "pygments_lexer": "ipython3",
   "version": "3.11.9"
  }
 },
 "nbformat": 4,
 "nbformat_minor": 5
}
