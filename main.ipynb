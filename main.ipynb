{
 "cells": [
  {
   "cell_type": "code",
   "execution_count": 1,
   "id": "e6966da8-5f5c-4b3a-ac08-a2933310145b",
   "metadata": {},
   "outputs": [
    {
     "data": {
      "text/plain": [
       "[PosixPath('in/EBT2/EBT II Clase 2024_08_29.pptx'),\n",
       " PosixPath('in/EBT2/EBT II Clase 2024_09_10.pptx'),\n",
       " PosixPath('in/EBT2/EBT II Clase 2024_08_22.pptx'),\n",
       " PosixPath('in/EBT2/EBT II Clase 2024_09_03.pptx'),\n",
       " PosixPath('in/EBT2/EBT II Clase 2024_08_27.pptx')]"
      ]
     },
     "execution_count": 1,
     "metadata": {},
     "output_type": "execute_result"
    }
   ],
   "source": [
    "import os\n",
    "from pathlib import Path\n",
    "\n",
    "dir_in = \"EBT2\"\n",
    "path_in = Path(\"in\") / dir_in\n",
    "path_out = Path(\"out\") / dir_in\n",
    "\n",
    "if not path_out.exists():\n",
    "    os.mkdir(path_out)\n",
    "\n",
    "ppt_in = [file for file in path_in.iterdir() if file.name.endswith(\".pptx\")]\n",
    "list(ppt_in)"
   ]
  },
  {
   "cell_type": "code",
   "execution_count": 24,
   "id": "7e8c9646-77aa-4548-aeae-d4b2a481d32d",
   "metadata": {},
   "outputs": [],
   "source": [
    "from pptx import Presentation\n",
    "from pptx.enum.shapes import MSO_SHAPE_TYPE\n",
    "\n",
    "def extract(ppt):\n",
    "    prs = Presentation(ppt)\n",
    "    lines = []\n",
    "    \n",
    "    dir_out = path_out / ppt.stem\n",
    "    if not dir_out.exists():\n",
    "        os.mkdir(dir_out)\n",
    "    \n",
    "    for i, slide in enumerate(prs.slides):\n",
    "        for j, shape in enumerate(slide.shapes):\n",
    "            if shape.shape_type == MSO_SHAPE_TYPE.PICTURE:\n",
    "                filename = f\"{i}-{j}_{shape.image.filename}\"\n",
    "                img_out = dir_out / filename\n",
    "                if not img_out.exists():\n",
    "                    with open(img_out, \"wb\") as file:\n",
    "                        file.write(shape.image.blob)\n",
    "                lines.append(f\"![img]({filename})\")\n",
    "                continue\n",
    "            \n",
    "            if not shape.has_text_frame:\n",
    "                continue\n",
    "                \n",
    "            for paragraph in shape.text_frame.paragraphs:\n",
    "                line = \"\"\n",
    "                for run in paragraph.runs:\n",
    "                    text = run.text.strip()\n",
    "                    if text == \"\": continue;\n",
    "                    font = run.font\n",
    "                    if font.bold: text = f\"**{text}**\";\n",
    "                    if font.italic: text = f\"*{text}*\";\n",
    "                    if font.underline: text = f\"<u>{text}</u>\";\n",
    "                    if line != \"\": line += \" \";\n",
    "                    line += text\n",
    "                if line == \"\": continue;\n",
    "                lines.append(line)\n",
    "                    \n",
    "    with open(dir_out / \"README.md\", \"w\") as file:\n",
    "        file.write(\"\\n\\n\".join(lines))"
   ]
  },
  {
   "cell_type": "code",
   "execution_count": 25,
   "id": "cf7ffb52-6b6a-4a50-8c11-bfbf780d1045",
   "metadata": {},
   "outputs": [],
   "source": [
    "for ppt in ppt_in:\n",
    "    extract(ppt)"
   ]
  },
  {
   "cell_type": "code",
   "execution_count": null,
   "id": "9acd9982-9ee2-4b8c-b929-24e39ded3cf9",
   "metadata": {},
   "outputs": [],
   "source": []
  }
 ],
 "metadata": {
  "kernelspec": {
   "display_name": "Python 3 (ipykernel)",
   "language": "python",
   "name": "python3"
  },
  "language_info": {
   "codemirror_mode": {
    "name": "ipython",
    "version": 3
   },
   "file_extension": ".py",
   "mimetype": "text/x-python",
   "name": "python",
   "nbconvert_exporter": "python",
   "pygments_lexer": "ipython3",
   "version": "3.11.9"
  }
 },
 "nbformat": 4,
 "nbformat_minor": 5
}
